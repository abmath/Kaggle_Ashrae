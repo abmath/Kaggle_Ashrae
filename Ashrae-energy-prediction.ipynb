{
 "cells": [
  {
   "cell_type": "code",
   "execution_count": 1,
   "metadata": {},
   "outputs": [],
   "source": [
    "# Import dependencies\n",
    "\n",
    "import os\n",
    "import numpy as np\n",
    "import pandas as pd\n",
    "from matplotlib import pyplot as plt"
   ]
  },
  {
   "cell_type": "code",
   "execution_count": 2,
   "metadata": {},
   "outputs": [],
   "source": [
    "files = os.listdir()"
   ]
  },
  {
   "cell_type": "code",
   "execution_count": 3,
   "metadata": {},
   "outputs": [
    {
     "data": {
      "text/plain": [
       "['weather_test.csv',\n",
       " 'weather_train.csv',\n",
       " '.DS_Store',\n",
       " 'test.csv',\n",
       " 'ashrae-energy-prediction.zip',\n",
       " 'train.csv',\n",
       " '.ipynb_checkpoints',\n",
       " 'building_metadata.csv',\n",
       " 'Ashrae-energy-prediction.ipynb',\n",
       " 'sample_submission.csv']"
      ]
     },
     "execution_count": 3,
     "metadata": {},
     "output_type": "execute_result"
    }
   ],
   "source": [
    "files"
   ]
  },
  {
   "cell_type": "code",
   "execution_count": 4,
   "metadata": {},
   "outputs": [],
   "source": [
    "to_read = []\n",
    "for file in files:\n",
    "    if str(file).endswith('csv'):\n",
    "        to_read.append(file.replace(\".csv\",\"\"))"
   ]
  },
  {
   "cell_type": "code",
   "execution_count": 5,
   "metadata": {},
   "outputs": [
    {
     "data": {
      "text/plain": [
       "['weather_test',\n",
       " 'weather_train',\n",
       " 'test',\n",
       " 'train',\n",
       " 'building_metadata',\n",
       " 'sample_submission']"
      ]
     },
     "execution_count": 5,
     "metadata": {},
     "output_type": "execute_result"
    }
   ],
   "source": [
    "to_read"
   ]
  },
  {
   "cell_type": "code",
   "execution_count": 6,
   "metadata": {},
   "outputs": [],
   "source": [
    "dic = {}\n",
    "\n",
    "for file in to_read:\n",
    "    dic[file] = pd.read_csv(file+'.csv',header=0)"
   ]
  },
  {
   "cell_type": "code",
   "execution_count": 7,
   "metadata": {},
   "outputs": [
    {
     "data": {
      "text/plain": [
       "{'weather_test':         site_id            timestamp  air_temperature  cloud_coverage  \\\n",
       " 0             0  2017-01-01 00:00:00             17.8             4.0   \n",
       " 1             0  2017-01-01 01:00:00             17.8             2.0   \n",
       " 2             0  2017-01-01 02:00:00             16.1             0.0   \n",
       " 3             0  2017-01-01 03:00:00             17.2             0.0   \n",
       " 4             0  2017-01-01 04:00:00             16.7             2.0   \n",
       " ...         ...                  ...              ...             ...   \n",
       " 277238       15  2018-12-31 19:00:00              3.3             NaN   \n",
       " 277239       15  2018-12-31 20:00:00              2.8             NaN   \n",
       " 277240       15  2018-12-31 21:00:00              2.8             NaN   \n",
       " 277241       15  2018-12-31 22:00:00              2.8             NaN   \n",
       " 277242       15  2018-12-31 23:00:00              3.3             NaN   \n",
       " \n",
       "         dew_temperature  precip_depth_1_hr  sea_level_pressure  \\\n",
       " 0                  11.7                NaN              1021.4   \n",
       " 1                  12.8                0.0              1022.0   \n",
       " 2                  12.8                0.0              1021.9   \n",
       " 3                  13.3                0.0              1022.2   \n",
       " 4                  13.3                0.0              1022.3   \n",
       " ...                 ...                ...                 ...   \n",
       " 277238              1.7                NaN              1018.3   \n",
       " 277239              1.1                NaN              1017.8   \n",
       " 277240              1.7               -1.0              1017.2   \n",
       " 277241              2.2                8.0              1016.1   \n",
       " 277242              2.2               20.0              1014.7   \n",
       " \n",
       "         wind_direction  wind_speed  \n",
       " 0                100.0         3.6  \n",
       " 1                130.0         3.1  \n",
       " 2                140.0         3.1  \n",
       " 3                140.0         3.1  \n",
       " 4                130.0         2.6  \n",
       " ...                ...         ...  \n",
       " 277238           150.0         7.7  \n",
       " 277239           140.0         5.1  \n",
       " 277240           140.0         6.2  \n",
       " 277241           140.0         5.1  \n",
       " 277242           140.0         5.1  \n",
       " \n",
       " [277243 rows x 9 columns],\n",
       " 'weather_train':         site_id            timestamp  air_temperature  cloud_coverage  \\\n",
       " 0             0  2016-01-01 00:00:00             25.0             6.0   \n",
       " 1             0  2016-01-01 01:00:00             24.4             NaN   \n",
       " 2             0  2016-01-01 02:00:00             22.8             2.0   \n",
       " 3             0  2016-01-01 03:00:00             21.1             2.0   \n",
       " 4             0  2016-01-01 04:00:00             20.0             2.0   \n",
       " ...         ...                  ...              ...             ...   \n",
       " 139768       15  2016-12-31 19:00:00              3.0             NaN   \n",
       " 139769       15  2016-12-31 20:00:00              2.8             2.0   \n",
       " 139770       15  2016-12-31 21:00:00              2.8             NaN   \n",
       " 139771       15  2016-12-31 22:00:00              2.2             NaN   \n",
       " 139772       15  2016-12-31 23:00:00              1.7             NaN   \n",
       " \n",
       "         dew_temperature  precip_depth_1_hr  sea_level_pressure  \\\n",
       " 0                  20.0                NaN              1019.7   \n",
       " 1                  21.1               -1.0              1020.2   \n",
       " 2                  21.1                0.0              1020.2   \n",
       " 3                  20.6                0.0              1020.1   \n",
       " 4                  20.0               -1.0              1020.0   \n",
       " ...                 ...                ...                 ...   \n",
       " 139768             -8.0                NaN                 NaN   \n",
       " 139769             -8.9                NaN              1007.4   \n",
       " 139770             -7.2                NaN              1007.5   \n",
       " 139771             -6.7                NaN              1008.0   \n",
       " 139772             -5.6               -1.0              1008.5   \n",
       " \n",
       "         wind_direction  wind_speed  \n",
       " 0                  0.0         0.0  \n",
       " 1                 70.0         1.5  \n",
       " 2                  0.0         0.0  \n",
       " 3                  0.0         0.0  \n",
       " 4                250.0         2.6  \n",
       " ...                ...         ...  \n",
       " 139768           180.0         5.7  \n",
       " 139769           180.0         7.7  \n",
       " 139770           180.0         5.1  \n",
       " 139771           170.0         4.6  \n",
       " 139772           180.0         8.8  \n",
       " \n",
       " [139773 rows x 9 columns],\n",
       " 'test':             row_id  building_id  meter            timestamp\n",
       " 0                0            0      0  2017-01-01 00:00:00\n",
       " 1                1            1      0  2017-01-01 00:00:00\n",
       " 2                2            2      0  2017-01-01 00:00:00\n",
       " 3                3            3      0  2017-01-01 00:00:00\n",
       " 4                4            4      0  2017-01-01 00:00:00\n",
       " ...            ...          ...    ...                  ...\n",
       " 41697595  41697595         1444      0  2018-05-09 07:00:00\n",
       " 41697596  41697596         1445      0  2018-05-09 07:00:00\n",
       " 41697597  41697597         1446      0  2018-05-09 07:00:00\n",
       " 41697598  41697598         1447      0  2018-05-09 07:00:00\n",
       " 41697599  41697599         1448      0  2018-05-09 07:00:00\n",
       " \n",
       " [41697600 rows x 4 columns],\n",
       " 'train':           building_id  meter            timestamp  meter_reading\n",
       " 0                   0      0  2016-01-01 00:00:00          0.000\n",
       " 1                   1      0  2016-01-01 00:00:00          0.000\n",
       " 2                   2      0  2016-01-01 00:00:00          0.000\n",
       " 3                   3      0  2016-01-01 00:00:00          0.000\n",
       " 4                   4      0  2016-01-01 00:00:00          0.000\n",
       " ...               ...    ...                  ...            ...\n",
       " 20216095         1444      0  2016-12-31 23:00:00          8.750\n",
       " 20216096         1445      0  2016-12-31 23:00:00          4.825\n",
       " 20216097         1446      0  2016-12-31 23:00:00          0.000\n",
       " 20216098         1447      0  2016-12-31 23:00:00        159.575\n",
       " 20216099         1448      0  2016-12-31 23:00:00          2.850\n",
       " \n",
       " [20216100 rows x 4 columns],\n",
       " 'building_metadata':       site_id  building_id                    primary_use  square_feet  \\\n",
       " 0           0            0                      Education         7432   \n",
       " 1           0            1                      Education         2720   \n",
       " 2           0            2                      Education         5376   \n",
       " 3           0            3                      Education        23685   \n",
       " 4           0            4                      Education       116607   \n",
       " ...       ...          ...                            ...          ...   \n",
       " 1444       15         1444  Entertainment/public assembly        19619   \n",
       " 1445       15         1445                      Education         4298   \n",
       " 1446       15         1446  Entertainment/public assembly        11265   \n",
       " 1447       15         1447            Lodging/residential        29775   \n",
       " 1448       15         1448                         Office        92271   \n",
       " \n",
       "       year_built  floor_count  \n",
       " 0         2008.0          NaN  \n",
       " 1         2004.0          NaN  \n",
       " 2         1991.0          NaN  \n",
       " 3         2002.0          NaN  \n",
       " 4         1975.0          NaN  \n",
       " ...          ...          ...  \n",
       " 1444      1914.0          NaN  \n",
       " 1445         NaN          NaN  \n",
       " 1446      1997.0          NaN  \n",
       " 1447      2001.0          NaN  \n",
       " 1448      2001.0          NaN  \n",
       " \n",
       " [1449 rows x 6 columns],\n",
       " 'sample_submission':             row_id  meter_reading\n",
       " 0                0              0\n",
       " 1                1              0\n",
       " 2                2              0\n",
       " 3                3              0\n",
       " 4                4              0\n",
       " ...            ...            ...\n",
       " 41697595  41697595              0\n",
       " 41697596  41697596              0\n",
       " 41697597  41697597              0\n",
       " 41697598  41697598              0\n",
       " 41697599  41697599              0\n",
       " \n",
       " [41697600 rows x 2 columns]}"
      ]
     },
     "execution_count": 7,
     "metadata": {},
     "output_type": "execute_result"
    }
   ],
   "source": [
    "dic"
   ]
  },
  {
   "cell_type": "code",
   "execution_count": 1,
   "metadata": {},
   "outputs": [
    {
     "ename": "ModuleNotFoundError",
     "evalue": "No module named 'xgboost'",
     "output_type": "error",
     "traceback": [
      "\u001b[0;31m---------------------------------------------------------------------------\u001b[0m",
      "\u001b[0;31mModuleNotFoundError\u001b[0m                       Traceback (most recent call last)",
      "\u001b[0;32m<ipython-input-1-e528dc1a32ff>\u001b[0m in \u001b[0;36m<module>\u001b[0;34m\u001b[0m\n\u001b[0;32m----> 1\u001b[0;31m \u001b[0;32mimport\u001b[0m \u001b[0mxgboost\u001b[0m\u001b[0;34m\u001b[0m\u001b[0;34m\u001b[0m\u001b[0m\n\u001b[0m",
      "\u001b[0;31mModuleNotFoundError\u001b[0m: No module named 'xgboost'"
     ]
    }
   ],
   "source": [
    "import xgboost"
   ]
  },
  {
   "cell_type": "code",
   "execution_count": null,
   "metadata": {},
   "outputs": [],
   "source": []
  }
 ],
 "metadata": {
  "kernelspec": {
   "display_name": "Python 3",
   "language": "python",
   "name": "python3"
  },
  "language_info": {
   "codemirror_mode": {
    "name": "ipython",
    "version": 3
   },
   "file_extension": ".py",
   "mimetype": "text/x-python",
   "name": "python",
   "nbconvert_exporter": "python",
   "pygments_lexer": "ipython3",
   "version": "3.7.1"
  }
 },
 "nbformat": 4,
 "nbformat_minor": 2
}
